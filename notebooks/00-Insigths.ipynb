{
 "cells": [
  {
   "cell_type": "code",
   "execution_count": 5,
   "metadata": {},
   "outputs": [],
   "source": [
    "import sys\n",
    "\n",
    "sys.path.append('/Users/leportella/src/serenata/medidor-de-poder/api')\n",
    "\n",
    "from decouple import config\n",
    "import pandas as pd\n",
    "import mongoengine as me\n",
    "\n",
    "from print import pprint\n",
    "\n",
    "from models import Candidates"
   ]
  },
  {
   "cell_type": "code",
   "execution_count": 2,
   "metadata": {},
   "outputs": [
    {
     "data": {
      "text/plain": [
       "MongoClient(host=['cluster0-shard-00-02-1wqt1.mongodb.net:27017', 'cluster0-shard-00-01-1wqt1.mongodb.net:27017', 'cluster0-shard-00-00-1wqt1.mongodb.net:27017'], document_class=dict, tz_aware=False, connect=True, ssl=True, replicaset='Cluster0-shard-0', authsource='admin', retrywrites=True, read_preference=Primary())"
      ]
     },
     "execution_count": 2,
     "metadata": {},
     "output_type": "execute_result"
    }
   ],
   "source": [
    "me.connect(host=config('MONGO_URL'))"
   ]
  },
  {
   "cell_type": "markdown",
   "metadata": {},
   "source": [
    "# Sessions Abstent by Year\n",
    "\n",
    "The total number of sessions considered the sessions the deputy was present and sessions the deputy was abstent during the selected year. So the abstent percent is calculated by:\n",
    "\n",
    "abstent_percent = number_abstent / (number_abstent + number_present)"
   ]
  },
  {
   "cell_type": "code",
   "execution_count": 10,
   "metadata": {},
   "outputs": [
    {
     "name": "stdout",
     "output_type": "stream",
     "text": [
      "NAME:  NELSON VICENTE PORTELA PELLEGRINO\n",
      "ABSTENT: 0.50%\n",
      "PERCENT JUSTIFIED: 0.50%\n",
      "-\n",
      "NAME:  WLADIMIR AFONSO DA COSTA RABELO\n",
      "ABSTENT: 0.84%\n",
      "PERCENT JUSTIFIED: 0.96%\n",
      "-\n",
      "NAME:  AROLDE DE OLIVEIRA\n",
      "ABSTENT: 0.70%\n",
      "PERCENT JUSTIFIED: 0.43%\n",
      "-\n",
      "NAME:  PAULO SALIM MALUF\n",
      "ABSTENT: 0.54%\n",
      "PERCENT JUSTIFIED: 0.99%\n",
      "-\n"
     ]
    },
    {
     "name": "stderr",
     "output_type": "stream",
     "text": [
      "/Users/leportella/.virtualenvs/serenata/lib/python3.6/site-packages/ipykernel_launcher.py:1: DeprecationWarning: generator 'QuerySet._iter_results' raised StopIteration\n",
      "  \"\"\"Entry point for launching an IPython kernel.\n"
     ]
    }
   ],
   "source": [
    "for c in Candidates.objects.filter(sessions_presence__year_2015__abstent_percent__gte=0.5):\n",
    "    name = c.civil_name\n",
    "    abstent = c.sessions_presence.year_2015.abstent_percent\n",
    "    justified = c.sessions_presence.year_2015.abstent_with_justification_percent\n",
    "    \n",
    "    print('NAME: ', name)\n",
    "    print('ABSTENT: {0:.2f}%'.format(abstent))\n",
    "    print('PERCENT JUSTIFIED: {0:.2f}%'.format(justified))\n",
    "    print('-')"
   ]
  },
  {
   "cell_type": "code",
   "execution_count": 11,
   "metadata": {},
   "outputs": [
    {
     "name": "stdout",
     "output_type": "stream",
     "text": [
      "NAME:  ELCIONE THEREZINHA ZAHLUTH BARBALHO\n",
      "ABSTENT: 0.54%\n",
      "PERCENT JUSTIFIED: 0.85%\n",
      "-\n"
     ]
    },
    {
     "name": "stderr",
     "output_type": "stream",
     "text": [
      "/Users/leportella/.virtualenvs/serenata/lib/python3.6/site-packages/ipykernel_launcher.py:1: DeprecationWarning: generator 'QuerySet._iter_results' raised StopIteration\n",
      "  \"\"\"Entry point for launching an IPython kernel.\n"
     ]
    }
   ],
   "source": [
    "for c in Candidates.objects.filter(sessions_presence__year_2016__abstent_percent__gte=0.5):\n",
    "    name = c.civil_name\n",
    "    abstent = c.sessions_presence.year_2016.abstent_percent\n",
    "    justified = c.sessions_presence.year_2016.abstent_with_justification_percent\n",
    "    \n",
    "    print('NAME: ', name)\n",
    "    print('ABSTENT: {0:.2f}%'.format(abstent))\n",
    "    print('PERCENT JUSTIFIED: {0:.2f}%'.format(justified))\n",
    "    print('-')"
   ]
  },
  {
   "cell_type": "code",
   "execution_count": 12,
   "metadata": {},
   "outputs": [
    {
     "name": "stdout",
     "output_type": "stream",
     "text": [
      "NAME:  ANTONIO LAZARO SILVA\n",
      "ABSTENT: 0.62%\n",
      "PERCENT JUSTIFIED: 0.55%\n",
      "-\n",
      "NAME:  FRANCISCO ARIOSTO HOLANDA\n",
      "ABSTENT: 0.97%\n",
      "PERCENT JUSTIFIED: 1.00%\n",
      "-\n",
      "NAME:  GIOVANI CHERINI\n",
      "ABSTENT: 0.97%\n",
      "PERCENT JUSTIFIED: 0.82%\n",
      "-\n",
      "NAME:  PAULO SALIM MALUF\n",
      "ABSTENT: 0.58%\n",
      "PERCENT JUSTIFIED: 0.55%\n",
      "-\n"
     ]
    },
    {
     "name": "stderr",
     "output_type": "stream",
     "text": [
      "/Users/leportella/.virtualenvs/serenata/lib/python3.6/site-packages/ipykernel_launcher.py:1: DeprecationWarning: generator 'QuerySet._iter_results' raised StopIteration\n",
      "  \"\"\"Entry point for launching an IPython kernel.\n"
     ]
    }
   ],
   "source": [
    "for c in Candidates.objects.filter(sessions_presence__year_2017__abstent_percent__gte=0.5):\n",
    "    name = c.civil_name\n",
    "    abstent = c.sessions_presence.year_2017.abstent_percent\n",
    "    justified = c.sessions_presence.year_2017.abstent_with_justification_percent\n",
    "\n",
    "    print('NAME: ', name)\n",
    "    print('ABSTENT: {0:.2f}%'.format(abstent))\n",
    "    print('PERCENT JUSTIFIED: {0:.2f}%'.format(justified))\n",
    "    print('-')"
   ]
  },
  {
   "cell_type": "markdown",
   "metadata": {},
   "source": [
    "## Elections stats"
   ]
  },
  {
   "cell_type": "code",
   "execution_count": 26,
   "metadata": {},
   "outputs": [
    {
     "name": "stdout",
     "output_type": "stream",
     "text": [
      "36 person ran for election at least 5 times\n"
     ]
    }
   ],
   "source": [
    "candidates = Candidates.objects.filter(elections__5__exists=True)\n",
    "print('{} person ran for election at least 5 times'.format(len(candidates)))"
   ]
  },
  {
   "cell_type": "code",
   "execution_count": 27,
   "metadata": {},
   "outputs": [
    {
     "name": "stdout",
     "output_type": "stream",
     "text": [
      "7 person ran for election at least 6 times: \n",
      "\n",
      "MARCELO RAMOS RODRIGUES\n",
      "CLÉCIO LUÍS VILHENA VIEIRA\n",
      "MARIA MARGARIDA MARTINS SALOMÃO\n",
      "LUIZ CANTUARIA BARRETO\n",
      "NEUCIMAR FERREIRA FRAGA\n",
      "ALEXANDRE MARCELO COUTINHO SANTOS\n",
      "HERZEM GUSMÃO PEREIRA\n"
     ]
    }
   ],
   "source": [
    "candidates = Candidates.objects.filter(elections__6__exists=True)\n",
    "print('{} person ran for election at least 6 times: '.format(len(candidates)))\n",
    "print('')\n",
    "\n",
    "for candidate in candidates:\n",
    "    print('{}'.format(candidate.civil_name))"
   ]
  },
  {
   "cell_type": "code",
   "execution_count": 28,
   "metadata": {},
   "outputs": [
    {
     "name": "stdout",
     "output_type": "stream",
     "text": [
      "3 person ran for election at least 7 times: \n",
      "\n",
      "MARCELO RAMOS RODRIGUES\n",
      "MARIA MARGARIDA MARTINS SALOMÃO\n",
      "NEUCIMAR FERREIRA FRAGA\n"
     ]
    }
   ],
   "source": [
    "candidates = Candidates.objects.filter(elections__7__exists=True)\n",
    "print('{} person ran for election at least 7 times: '.format(len(candidates)))\n",
    "print('')\n",
    "\n",
    "for candidate in candidates:\n",
    "    print('{}'.format(candidate.civil_name))"
   ]
  },
  {
   "cell_type": "code",
   "execution_count": 29,
   "metadata": {},
   "outputs": [
    {
     "name": "stdout",
     "output_type": "stream",
     "text": [
      "0 person ran for election at least 8 times: \n",
      "\n"
     ]
    }
   ],
   "source": [
    "candidates = Candidates.objects.filter(elections__8__exists=True)\n",
    "print('{} person ran for election at least 8 times: '.format(len(candidates)))\n",
    "print('')\n",
    "\n",
    "for candidate in candidates:\n",
    "    print('{}'.format(candidate.civil_name))"
   ]
  },
  {
   "cell_type": "markdown",
   "metadata": {},
   "source": [
    "## Parties change"
   ]
  },
  {
   "cell_type": "code",
   "execution_count": 32,
   "metadata": {},
   "outputs": [
    {
     "name": "stdout",
     "output_type": "stream",
     "text": [
      "18 person changed party at least 5 times: \n",
      "\n",
      "ARTHUR DE OLIVEIRA MAIA DA SILVA\n",
      "JOSÉ ALMEIDA LIMA\n",
      "ANTONIO BALHMANN CARDOSO NUNES FILHO\n",
      "FRANCISCO DANILO BASTOS FORTE\n",
      "ADEMIR CAMILO PRATES RODRIGUES\n",
      "CARLOS EDUARDO CINTRA DA COSTA PEREIRA\n",
      "JORGE SILVA\n",
      "DAMIÃO FELICIANO DA SILVA\n",
      "PAULO ROBERTO GOMES MANSUR\n",
      "CARLOS ALBERTO CAVALCANTE DE SOUZA\n",
      "EDMAR BATISTA MOREIRA\n",
      "AKIRA OTSUBO\n",
      "BRUNO CAMPELO RODRIGUES DE SOUZA\n",
      "ANTONIO DA CONCEIÇÃO COSTA FERREIRA\n",
      "ÁTILA SIDNEY LINS ALBUQUERQUE\n",
      "ÁTILA FREITAS LIRA\n",
      "ÉDIO VIEIRA LOPES\n",
      "GEORGE HILTON DOS SANTOS CECÍLIO\n"
     ]
    }
   ],
   "source": [
    "candidates = Candidates.objects.filter(parties__5__exists=True)\n",
    "print('{} person changed party at least 5 times: '.format(len(candidates)))\n",
    "print('')\n",
    "\n",
    "for candidate in candidates:\n",
    "    print('{}'.format(candidate.civil_name))"
   ]
  },
  {
   "cell_type": "code",
   "execution_count": 31,
   "metadata": {},
   "outputs": [
    {
     "name": "stdout",
     "output_type": "stream",
     "text": [
      "9 person changed party at least 6 times: \n",
      "\n",
      "ADEMIR CAMILO PRATES RODRIGUES\n",
      "CARLOS EDUARDO CINTRA DA COSTA PEREIRA\n",
      "JORGE SILVA\n",
      "PAULO ROBERTO GOMES MANSUR\n",
      "CARLOS ALBERTO CAVALCANTE DE SOUZA\n",
      "EDMAR BATISTA MOREIRA\n",
      "ANTONIO DA CONCEIÇÃO COSTA FERREIRA\n",
      "ÁTILA SIDNEY LINS ALBUQUERQUE\n",
      "GEORGE HILTON DOS SANTOS CECÍLIO\n"
     ]
    }
   ],
   "source": [
    "candidates = Candidates.objects.filter(parties__6__exists=True)\n",
    "print('{} person changed party at least 6 times: '.format(len(candidates)))\n",
    "print('')\n",
    "\n",
    "for candidate in candidates:\n",
    "    print('{}'.format(candidate.civil_name))"
   ]
  },
  {
   "cell_type": "code",
   "execution_count": 30,
   "metadata": {},
   "outputs": [
    {
     "name": "stdout",
     "output_type": "stream",
     "text": [
      "3 person changed party at least 7 times: \n",
      "\n",
      "ADEMIR CAMILO PRATES RODRIGUES\n",
      "EDMAR BATISTA MOREIRA\n",
      "ANTONIO DA CONCEIÇÃO COSTA FERREIRA\n"
     ]
    }
   ],
   "source": [
    "candidates = Candidates.objects.filter(parties__7__exists=True)\n",
    "print('{} person changed party at least 7 times: '.format(len(candidates)))\n",
    "print('')\n",
    "\n",
    "for candidate in candidates:\n",
    "    print('{}'.format(candidate.civil_name))"
   ]
  }
 ],
 "metadata": {
  "kernelspec": {
   "display_name": "Python 3",
   "language": "python",
   "name": "python3"
  },
  "language_info": {
   "codemirror_mode": {
    "name": "ipython",
    "version": 3
   },
   "file_extension": ".py",
   "mimetype": "text/x-python",
   "name": "python",
   "nbconvert_exporter": "python",
   "pygments_lexer": "ipython3",
   "version": "3.6.1"
  }
 },
 "nbformat": 4,
 "nbformat_minor": 2
}
