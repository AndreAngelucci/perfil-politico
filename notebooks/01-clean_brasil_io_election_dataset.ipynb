{
 "cells": [
  {
   "cell_type": "code",
   "execution_count": 28,
   "metadata": {},
   "outputs": [],
   "source": [
    "import numpy as np\n",
    "from datetime import datetime\n",
    "import pandas as pd\n",
    "import unidecode"
   ]
  },
  {
   "cell_type": "code",
   "execution_count": 2,
   "metadata": {},
   "outputs": [
    {
     "name": "stderr",
     "output_type": "stream",
     "text": [
      "/Users/leportella/.virtualenvs/serenata/lib/python3.6/site-packages/IPython/core/interactiveshell.py:2785: DtypeWarning: Columns (4,19,20,24,25,34,42,43) have mixed types. Specify dtype option on import or set low_memory=False.\n",
      "  interactivity=interactivity, compiler=compiler, result=result)\n"
     ]
    }
   ],
   "source": [
    "df = pd.read_csv('../data/candidatos.csv.xz', dtype={'cpf_candidato': str})"
   ]
  },
  {
   "cell_type": "code",
   "execution_count": 17,
   "metadata": {},
   "outputs": [
    {
     "data": {
      "text/plain": [
       "ano_eleicao                                                2016\n",
       "num_turno                                                     1\n",
       "descricao_eleicao                      Eleições Municipais 2016\n",
       "sigla_uf                                                     TO\n",
       "sigla_ue                                                  73393\n",
       "descricao_ue                          SÃO SALVADOR DO TOCANTINS\n",
       "codigo_cargo                                                 13\n",
       "descricao_cargo                                        VEREADOR\n",
       "nome_candidato                    JOSÉ CARLOS FREIRE DOS SANTOS\n",
       "sequencial_candidato                               270000005737\n",
       "numero_candidato                                          43123\n",
       "cpf_candidato                                       00557546192\n",
       "nome_urna_candidato                                   ZÉ CARLOS\n",
       "cod_situacao_candidatura                                      2\n",
       "des_situacao_candidatura                               DEFERIDO\n",
       "numero_partido                                               43\n",
       "sigla_partido                                                PV\n",
       "nome_partido                                      PARTIDO VERDE\n",
       "codigo_legenda                                          2.7e+11\n",
       "sigla_legenda                                               NaN\n",
       "composicao_legenda                                           PV\n",
       "nome_legenda                                    PARTIDO ISOLADO\n",
       "codigo_ocupacao                                             512\n",
       "descricao_ocupacao                      CABELEIREIRO E BARBEIRO\n",
       "data_nascimento                                      21/04/1985\n",
       "num_titulo_eleitoral_candidato                      35984852763\n",
       "idade_data_eleicao                                           31\n",
       "codigo_sexo                                                   2\n",
       "descricao_sexo                                        MASCULINO\n",
       "cod_grau_instrucao                                            6\n",
       "descricao_grau_instrucao                  ENSINO MÉDIO COMPLETO\n",
       "codigo_estado_civil                                           1\n",
       "descricao_estado_civil                              SOLTEIRO(A)\n",
       "codigo_cor_raca                                               3\n",
       "descricao_cor_raca                                        PARDA\n",
       "codigo_nacionalidade                                          1\n",
       "descricao_nacionalidade                         BRASILEIRA NATA\n",
       "sigla_uf_nascimento                                          TO\n",
       "codigo_municipio_nascimento                                  -3\n",
       "nome_municipio_nascimento             SÃO SALVADOR DO TOCANTINS\n",
       "despesa_max_campanha                                         -1\n",
       "cod_sit_tot_turno                                             5\n",
       "desc_sit_tot_turno                                     SUPLENTE\n",
       "nm_email                               MAYARA.DIREITO@GMAIL.COM\n",
       "datahora_geracao                            2018-04-18 20:17:04\n",
       "Name: 3515447, dtype: object"
      ]
     },
     "execution_count": 17,
     "metadata": {},
     "output_type": "execute_result"
    }
   ],
   "source": [
    "df.iloc[-1]"
   ]
  },
  {
   "cell_type": "code",
   "execution_count": 29,
   "metadata": {},
   "outputs": [],
   "source": [
    "dd = df[['ano_eleicao', 'descricao_cargo', 'sigla_partido', 'nome_candidato', 'cpf_candidato', \n",
    "         'nome_partido', 'nome_legenda', 'composicao_legenda',  'data_nascimento', 'sigla_uf_nascimento', \n",
    "         'descricao_ocupacao', 'num_titulo_eleitoral_candidato', 'desc_sit_tot_turno', 'descricao_ue', 'sigla_uf', \n",
    "         'sequencial_candidato',\n",
    "         'descricao_sexo']]"
   ]
  },
  {
   "cell_type": "code",
   "execution_count": 30,
   "metadata": {},
   "outputs": [
    {
     "name": "stderr",
     "output_type": "stream",
     "text": [
      "/Users/leportella/.virtualenvs/serenata/lib/python3.6/site-packages/ipykernel_launcher.py:1: SettingWithCopyWarning: \n",
      "A value is trying to be set on a copy of a slice from a DataFrame.\n",
      "Try using .loc[row_indexer,col_indexer] = value instead\n",
      "\n",
      "See the caveats in the documentation: http://pandas.pydata.org/pandas-docs/stable/indexing.html#indexing-view-versus-copy\n",
      "  \"\"\"Entry point for launching an IPython kernel.\n",
      "/Users/leportella/.virtualenvs/serenata/lib/python3.6/site-packages/ipykernel_launcher.py:2: SettingWithCopyWarning: \n",
      "A value is trying to be set on a copy of a slice from a DataFrame.\n",
      "Try using .loc[row_indexer,col_indexer] = value instead\n",
      "\n",
      "See the caveats in the documentation: http://pandas.pydata.org/pandas-docs/stable/indexing.html#indexing-view-versus-copy\n",
      "  \n",
      "/Users/leportella/.virtualenvs/serenata/lib/python3.6/site-packages/ipykernel_launcher.py:3: SettingWithCopyWarning: \n",
      "A value is trying to be set on a copy of a slice from a DataFrame.\n",
      "Try using .loc[row_indexer,col_indexer] = value instead\n",
      "\n",
      "See the caveats in the documentation: http://pandas.pydata.org/pandas-docs/stable/indexing.html#indexing-view-versus-copy\n",
      "  This is separate from the ipykernel package so we can avoid doing imports until\n"
     ]
    }
   ],
   "source": [
    "dd['nome_partido'] = dd.nome_partido.apply(lambda x: unidecode.unidecode(x.upper()))\n",
    "dd['sigla_partido'] = dd.sigla_partido.apply(lambda x: x.upper())\n",
    "dd['nome_candidato'] = dd.nome_candidato.apply(lambda x: unidecode.unidecode(x))"
   ]
  },
  {
   "cell_type": "code",
   "execution_count": 21,
   "metadata": {},
   "outputs": [
    {
     "name": "stderr",
     "output_type": "stream",
     "text": [
      "/Users/leportella/.virtualenvs/serenata/lib/python3.6/site-packages/pandas/core/generic.py:4401: SettingWithCopyWarning: \n",
      "A value is trying to be set on a copy of a slice from a DataFrame.\n",
      "Try using .loc[row_indexer,col_indexer] = value instead\n",
      "\n",
      "See the caveats in the documentation: http://pandas.pydata.org/pandas-docs/stable/indexing.html#indexing-view-versus-copy\n",
      "  self[name] = value\n"
     ]
    }
   ],
   "source": [
    "dd.cpf_candidato = dd.cpf_candidato.fillna('0')"
   ]
  },
  {
   "cell_type": "code",
   "execution_count": 31,
   "metadata": {},
   "outputs": [],
   "source": [
    "dd2 = dd[dd.cpf_candidato!='0']"
   ]
  },
  {
   "cell_type": "code",
   "execution_count": 32,
   "metadata": {},
   "outputs": [],
   "source": [
    "dd2.to_csv('../perfil/data/cleaned_elections.csv', index=False)"
   ]
  },
  {
   "cell_type": "code",
   "execution_count": 24,
   "metadata": {},
   "outputs": [
    {
     "data": {
      "text/plain": [
       "ano_eleicao                                                2016\n",
       "descricao_cargo                                        VEREADOR\n",
       "sigla_partido                                                PV\n",
       "nome_candidato                    JOSE CARLOS FREIRE DOS SANTOS\n",
       "cpf_candidato                                       00557546192\n",
       "nome_partido                                      PARTIDO VERDE\n",
       "nome_legenda                                    PARTIDO ISOLADO\n",
       "composicao_legenda                                           PV\n",
       "data_nascimento                                      21/04/1985\n",
       "sigla_uf_nascimento                                          TO\n",
       "descricao_ocupacao                      CABELEIREIRO E BARBEIRO\n",
       "num_titulo_eleitoral_candidato                      35984852763\n",
       "desc_sit_tot_turno                                     SUPLENTE\n",
       "descricao_ue                          SÃO SALVADOR DO TOCANTINS\n",
       "sigla_uf                                                     TO\n",
       "descricao_sexo                                        MASCULINO\n",
       "Name: 3515447, dtype: object"
      ]
     },
     "execution_count": 24,
     "metadata": {},
     "output_type": "execute_result"
    }
   ],
   "source": [
    "dd2.iloc[-1]"
   ]
  },
  {
   "cell_type": "code",
   "execution_count": 27,
   "metadata": {},
   "outputs": [
    {
     "data": {
      "text/plain": [
       "ano_eleicao                                                  2004\n",
       "descricao_cargo                                          VEREADOR\n",
       "sigla_partido                                                 PDT\n",
       "nome_candidato                          LUDIMARTO ANTONIO VENTURA\n",
       "cpf_candidato                                         30671121804\n",
       "nome_partido                      PARTIDO DEMOCRATICO TRABALHISTA\n",
       "nome_legenda                                                  NaN\n",
       "composicao_legenda                                            NaN\n",
       "data_nascimento                                          21011978\n",
       "sigla_uf_nascimento                                            SP\n",
       "descricao_ocupacao                                     JARDINEIRO\n",
       "num_titulo_eleitoral_candidato                       231191720132\n",
       "desc_sit_tot_turno                                            NaN\n",
       "descricao_ue                                             PARDINHO\n",
       "sigla_uf                                                       SP\n",
       "descricao_sexo                                          MASCULINO\n",
       "Name: 2047999, dtype: object"
      ]
     },
     "execution_count": 27,
     "metadata": {},
     "output_type": "execute_result"
    }
   ],
   "source": [
    "dd2.iloc[2020921]"
   ]
  }
 ],
 "metadata": {
  "kernelspec": {
   "display_name": "Python 3",
   "language": "python",
   "name": "python3"
  },
  "language_info": {
   "codemirror_mode": {
    "name": "ipython",
    "version": 3
   },
   "file_extension": ".py",
   "mimetype": "text/x-python",
   "name": "python",
   "nbconvert_exporter": "python",
   "pygments_lexer": "ipython3",
   "version": "3.6.1"
  }
 },
 "nbformat": 4,
 "nbformat_minor": 2
}
