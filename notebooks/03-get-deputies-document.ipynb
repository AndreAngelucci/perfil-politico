{
 "cells": [
  {
   "cell_type": "code",
   "execution_count": 1,
   "metadata": {},
   "outputs": [],
   "source": [
    "import pandas as pd\n",
    "\n",
    "from utils import get_collection, insert_df_to_db"
   ]
  },
  {
   "cell_type": "code",
   "execution_count": 2,
   "metadata": {},
   "outputs": [
    {
     "data": {
      "text/html": [
       "<div>\n",
       "<style scoped>\n",
       "    .dataframe tbody tr th:only-of-type {\n",
       "        vertical-align: middle;\n",
       "    }\n",
       "\n",
       "    .dataframe tbody tr th {\n",
       "        vertical-align: top;\n",
       "    }\n",
       "\n",
       "    .dataframe thead th {\n",
       "        text-align: right;\n",
       "    }\n",
       "</style>\n",
       "<table border=\"1\" class=\"dataframe\">\n",
       "  <thead>\n",
       "    <tr style=\"text-align: right;\">\n",
       "      <th></th>\n",
       "      <th>civil_name</th>\n",
       "      <th>state</th>\n",
       "      <th>cpf</th>\n",
       "      <th>congressperson_document</th>\n",
       "      <th>congressperson_name</th>\n",
       "      <th>party</th>\n",
       "    </tr>\n",
       "  </thead>\n",
       "  <tbody>\n",
       "    <tr>\n",
       "      <th>0</th>\n",
       "      <td>FLAVIANO FLÁVIO BAPTISTA DE MELO</td>\n",
       "      <td>AC</td>\n",
       "      <td>33251797700</td>\n",
       "      <td>54</td>\n",
       "      <td>FLAVIANO MELO</td>\n",
       "      <td>PMDB</td>\n",
       "    </tr>\n",
       "    <tr>\n",
       "      <th>1</th>\n",
       "      <td>JANETE MARIA GÓES CAPIBERIBE</td>\n",
       "      <td>AP</td>\n",
       "      <td>18085830272</td>\n",
       "      <td>10</td>\n",
       "      <td>JANETE CAPIBERIBE</td>\n",
       "      <td>PSB</td>\n",
       "    </tr>\n",
       "    <tr>\n",
       "      <th>2</th>\n",
       "      <td>ALICE MAZZUCO PORTUGAL</td>\n",
       "      <td>BA</td>\n",
       "      <td>12377392504</td>\n",
       "      <td>180</td>\n",
       "      <td>ALICE PORTUGAL</td>\n",
       "      <td>PCdoB</td>\n",
       "    </tr>\n",
       "    <tr>\n",
       "      <th>3</th>\n",
       "      <td>BENITO DA GAMA SANTOS</td>\n",
       "      <td>BA</td>\n",
       "      <td>2664763504</td>\n",
       "      <td>190</td>\n",
       "      <td>BENITO GAMA</td>\n",
       "      <td>PTB</td>\n",
       "    </tr>\n",
       "    <tr>\n",
       "      <th>4</th>\n",
       "      <td>DANIEL GOMES DE ALMEIDA</td>\n",
       "      <td>BA</td>\n",
       "      <td>7894090549</td>\n",
       "      <td>188</td>\n",
       "      <td>DANIEL ALMEIDA</td>\n",
       "      <td>PCdoB</td>\n",
       "    </tr>\n",
       "  </tbody>\n",
       "</table>\n",
       "</div>"
      ],
      "text/plain": [
       "                         civil_name state          cpf  \\\n",
       "0  FLAVIANO FLÁVIO BAPTISTA DE MELO    AC  33251797700   \n",
       "1      JANETE MARIA GÓES CAPIBERIBE    AP  18085830272   \n",
       "2            ALICE MAZZUCO PORTUGAL    BA  12377392504   \n",
       "3             BENITO DA GAMA SANTOS    BA   2664763504   \n",
       "4           DANIEL GOMES DE ALMEIDA    BA   7894090549   \n",
       "\n",
       "   congressperson_document congressperson_name  party  \n",
       "0                       54       FLAVIANO MELO   PMDB  \n",
       "1                       10   JANETE CAPIBERIBE    PSB  \n",
       "2                      180      ALICE PORTUGAL  PCdoB  \n",
       "3                      190         BENITO GAMA    PTB  \n",
       "4                      188      DANIEL ALMEIDA  PCdoB  "
      ]
     },
     "execution_count": 2,
     "metadata": {},
     "output_type": "execute_result"
    }
   ],
   "source": [
    "deputies = pd.read_csv('../data/datalake/deputy_info.csv', \n",
    "                        usecols=['state', 'cpf', 'congressperson_name', 'congressperson_document', 'civil_name', 'party'])\n",
    "deputies['cpf'] = deputies['cpf'].astype(str)\n",
    "deputies.head()"
   ]
  },
  {
   "cell_type": "code",
   "execution_count": 3,
   "metadata": {},
   "outputs": [],
   "source": [
    "presences = pd.read_csv('../data/2017-05-29-presences.xz', \n",
    "                        usecols=['congressperson_document', 'date', 'party', 'state', 'congressperson_name'])"
   ]
  },
  {
   "cell_type": "code",
   "execution_count": 4,
   "metadata": {},
   "outputs": [],
   "source": [
    "presences['date'] = pd.to_datetime(presences.date)\n",
    "presences['year'] = presences.date.apply(lambda x: x.year)"
   ]
  },
  {
   "cell_type": "code",
   "execution_count": 5,
   "metadata": {},
   "outputs": [],
   "source": [
    "presences['congressperson_name'] = presences.congressperson_name.apply(lambda x: x.split('-')[0].upper())"
   ]
  },
  {
   "cell_type": "code",
   "execution_count": 6,
   "metadata": {},
   "outputs": [
    {
     "data": {
      "text/html": [
       "<div>\n",
       "<style scoped>\n",
       "    .dataframe tbody tr th:only-of-type {\n",
       "        vertical-align: middle;\n",
       "    }\n",
       "\n",
       "    .dataframe tbody tr th {\n",
       "        vertical-align: top;\n",
       "    }\n",
       "\n",
       "    .dataframe thead th {\n",
       "        text-align: right;\n",
       "    }\n",
       "</style>\n",
       "<table border=\"1\" class=\"dataframe\">\n",
       "  <thead>\n",
       "    <tr style=\"text-align: right;\">\n",
       "      <th></th>\n",
       "      <th>congressperson_document</th>\n",
       "      <th>congressperson_name</th>\n",
       "      <th>party</th>\n",
       "      <th>state</th>\n",
       "      <th>date</th>\n",
       "      <th>year</th>\n",
       "    </tr>\n",
       "  </thead>\n",
       "  <tbody>\n",
       "    <tr>\n",
       "      <th>0</th>\n",
       "      <td>361</td>\n",
       "      <td>GOULART</td>\n",
       "      <td>PSD</td>\n",
       "      <td>SP</td>\n",
       "      <td>2015-02-01 10:33:09</td>\n",
       "      <td>2015</td>\n",
       "    </tr>\n",
       "    <tr>\n",
       "      <th>1</th>\n",
       "      <td>361</td>\n",
       "      <td>GOULART</td>\n",
       "      <td>PSD</td>\n",
       "      <td>SP</td>\n",
       "      <td>2015-02-01 10:33:09</td>\n",
       "      <td>2015</td>\n",
       "    </tr>\n",
       "    <tr>\n",
       "      <th>2</th>\n",
       "      <td>361</td>\n",
       "      <td>GOULART</td>\n",
       "      <td>PSD</td>\n",
       "      <td>SP</td>\n",
       "      <td>2015-02-03 08:00:00</td>\n",
       "      <td>2015</td>\n",
       "    </tr>\n",
       "    <tr>\n",
       "      <th>3</th>\n",
       "      <td>361</td>\n",
       "      <td>GOULART</td>\n",
       "      <td>PSD</td>\n",
       "      <td>SP</td>\n",
       "      <td>2015-02-03 08:00:00</td>\n",
       "      <td>2015</td>\n",
       "    </tr>\n",
       "    <tr>\n",
       "      <th>4</th>\n",
       "      <td>361</td>\n",
       "      <td>GOULART</td>\n",
       "      <td>PSD</td>\n",
       "      <td>SP</td>\n",
       "      <td>2015-02-04 08:00:01</td>\n",
       "      <td>2015</td>\n",
       "    </tr>\n",
       "  </tbody>\n",
       "</table>\n",
       "</div>"
      ],
      "text/plain": [
       "   congressperson_document congressperson_name party state  \\\n",
       "0                      361             GOULART   PSD    SP   \n",
       "1                      361             GOULART   PSD    SP   \n",
       "2                      361             GOULART   PSD    SP   \n",
       "3                      361             GOULART   PSD    SP   \n",
       "4                      361             GOULART   PSD    SP   \n",
       "\n",
       "                 date  year  \n",
       "0 2015-02-01 10:33:09  2015  \n",
       "1 2015-02-01 10:33:09  2015  \n",
       "2 2015-02-03 08:00:00  2015  \n",
       "3 2015-02-03 08:00:00  2015  \n",
       "4 2015-02-04 08:00:01  2015  "
      ]
     },
     "execution_count": 6,
     "metadata": {},
     "output_type": "execute_result"
    }
   ],
   "source": [
    "presences.head()"
   ]
  },
  {
   "cell_type": "code",
   "execution_count": 7,
   "metadata": {},
   "outputs": [
    {
     "data": {
      "text/html": [
       "<div>\n",
       "<style scoped>\n",
       "    .dataframe tbody tr th:only-of-type {\n",
       "        vertical-align: middle;\n",
       "    }\n",
       "\n",
       "    .dataframe tbody tr th {\n",
       "        vertical-align: top;\n",
       "    }\n",
       "\n",
       "    .dataframe thead th {\n",
       "        text-align: right;\n",
       "    }\n",
       "</style>\n",
       "<table border=\"1\" class=\"dataframe\">\n",
       "  <thead>\n",
       "    <tr style=\"text-align: right;\">\n",
       "      <th></th>\n",
       "      <th>civil_name</th>\n",
       "      <th>state</th>\n",
       "      <th>cpf</th>\n",
       "      <th>congressperson_document_x</th>\n",
       "      <th>congressperson_name</th>\n",
       "      <th>party_x</th>\n",
       "      <th>congressperson_document_y</th>\n",
       "      <th>party_y</th>\n",
       "      <th>date</th>\n",
       "      <th>year</th>\n",
       "    </tr>\n",
       "  </thead>\n",
       "  <tbody>\n",
       "    <tr>\n",
       "      <th>0</th>\n",
       "      <td>FLAVIANO FLÁVIO BAPTISTA DE MELO</td>\n",
       "      <td>AC</td>\n",
       "      <td>33251797700</td>\n",
       "      <td>54</td>\n",
       "      <td>FLAVIANO MELO</td>\n",
       "      <td>PMDB</td>\n",
       "      <td>54.0</td>\n",
       "      <td>PMDB</td>\n",
       "      <td>2015-02-01 10:33:09</td>\n",
       "      <td>2015.0</td>\n",
       "    </tr>\n",
       "    <tr>\n",
       "      <th>1</th>\n",
       "      <td>FLAVIANO FLÁVIO BAPTISTA DE MELO</td>\n",
       "      <td>AC</td>\n",
       "      <td>33251797700</td>\n",
       "      <td>54</td>\n",
       "      <td>FLAVIANO MELO</td>\n",
       "      <td>PMDB</td>\n",
       "      <td>54.0</td>\n",
       "      <td>PMDB</td>\n",
       "      <td>2015-02-01 10:33:09</td>\n",
       "      <td>2015.0</td>\n",
       "    </tr>\n",
       "    <tr>\n",
       "      <th>2</th>\n",
       "      <td>FLAVIANO FLÁVIO BAPTISTA DE MELO</td>\n",
       "      <td>AC</td>\n",
       "      <td>33251797700</td>\n",
       "      <td>54</td>\n",
       "      <td>FLAVIANO MELO</td>\n",
       "      <td>PMDB</td>\n",
       "      <td>54.0</td>\n",
       "      <td>PMDB</td>\n",
       "      <td>2015-02-03 08:00:00</td>\n",
       "      <td>2015.0</td>\n",
       "    </tr>\n",
       "    <tr>\n",
       "      <th>3</th>\n",
       "      <td>FLAVIANO FLÁVIO BAPTISTA DE MELO</td>\n",
       "      <td>AC</td>\n",
       "      <td>33251797700</td>\n",
       "      <td>54</td>\n",
       "      <td>FLAVIANO MELO</td>\n",
       "      <td>PMDB</td>\n",
       "      <td>54.0</td>\n",
       "      <td>PMDB</td>\n",
       "      <td>2015-02-03 08:00:00</td>\n",
       "      <td>2015.0</td>\n",
       "    </tr>\n",
       "    <tr>\n",
       "      <th>4</th>\n",
       "      <td>FLAVIANO FLÁVIO BAPTISTA DE MELO</td>\n",
       "      <td>AC</td>\n",
       "      <td>33251797700</td>\n",
       "      <td>54</td>\n",
       "      <td>FLAVIANO MELO</td>\n",
       "      <td>PMDB</td>\n",
       "      <td>54.0</td>\n",
       "      <td>PMDB</td>\n",
       "      <td>2015-02-04 08:00:01</td>\n",
       "      <td>2015.0</td>\n",
       "    </tr>\n",
       "  </tbody>\n",
       "</table>\n",
       "</div>"
      ],
      "text/plain": [
       "                         civil_name state          cpf  \\\n",
       "0  FLAVIANO FLÁVIO BAPTISTA DE MELO    AC  33251797700   \n",
       "1  FLAVIANO FLÁVIO BAPTISTA DE MELO    AC  33251797700   \n",
       "2  FLAVIANO FLÁVIO BAPTISTA DE MELO    AC  33251797700   \n",
       "3  FLAVIANO FLÁVIO BAPTISTA DE MELO    AC  33251797700   \n",
       "4  FLAVIANO FLÁVIO BAPTISTA DE MELO    AC  33251797700   \n",
       "\n",
       "   congressperson_document_x congressperson_name party_x  \\\n",
       "0                         54       FLAVIANO MELO    PMDB   \n",
       "1                         54       FLAVIANO MELO    PMDB   \n",
       "2                         54       FLAVIANO MELO    PMDB   \n",
       "3                         54       FLAVIANO MELO    PMDB   \n",
       "4                         54       FLAVIANO MELO    PMDB   \n",
       "\n",
       "   congressperson_document_y party_y                date    year  \n",
       "0                       54.0    PMDB 2015-02-01 10:33:09  2015.0  \n",
       "1                       54.0    PMDB 2015-02-01 10:33:09  2015.0  \n",
       "2                       54.0    PMDB 2015-02-03 08:00:00  2015.0  \n",
       "3                       54.0    PMDB 2015-02-03 08:00:00  2015.0  \n",
       "4                       54.0    PMDB 2015-02-04 08:00:01  2015.0  "
      ]
     },
     "execution_count": 7,
     "metadata": {},
     "output_type": "execute_result"
    }
   ],
   "source": [
    "df = pd.merge(deputies, presences, how='left', on=['congressperson_name', 'state'])\n",
    "df.head()"
   ]
  },
  {
   "cell_type": "code",
   "execution_count": 8,
   "metadata": {},
   "outputs": [
    {
     "data": {
      "text/plain": [
       "13"
      ]
     },
     "execution_count": 8,
     "metadata": {},
     "output_type": "execute_result"
    }
   ],
   "source": [
    "len(df[df.congressperson_document_x != df.congressperson_document_y])"
   ]
  },
  {
   "cell_type": "code",
   "execution_count": 9,
   "metadata": {},
   "outputs": [
    {
     "data": {
      "text/plain": [
       "40133"
      ]
     },
     "execution_count": 9,
     "metadata": {},
     "output_type": "execute_result"
    }
   ],
   "source": [
    "len(df[df.party_x != df.party_y])"
   ]
  },
  {
   "cell_type": "markdown",
   "metadata": {},
   "source": [
    "## Insert to MongoDB"
   ]
  },
  {
   "cell_type": "code",
   "execution_count": 10,
   "metadata": {},
   "outputs": [
    {
     "name": "stderr",
     "output_type": "stream",
     "text": [
      "/Users/leportella/.virtualenvs/serenata/lib/python3.6/site-packages/pandas/core/frame.py:3787: SettingWithCopyWarning: \n",
      "A value is trying to be set on a copy of a slice from a DataFrame\n",
      "\n",
      "See the caveats in the documentation: http://pandas.pydata.org/pandas-docs/stable/indexing.html#indexing-view-versus-copy\n",
      "  downcast=downcast, **kwargs)\n"
     ]
    },
    {
     "data": {
      "text/plain": [
       "{'created': 114, 'updated': 287}"
      ]
     },
     "execution_count": 10,
     "metadata": {},
     "output_type": "execute_result"
    }
   ],
   "source": [
    "insert_df_to_db(deputies[['civil_name', 'state', 'cpf']])"
   ]
  },
  {
   "cell_type": "code",
   "execution_count": 11,
   "metadata": {},
   "outputs": [],
   "source": [
    "collection = get_collection()"
   ]
  },
  {
   "cell_type": "code",
   "execution_count": 12,
   "metadata": {},
   "outputs": [
    {
     "data": {
      "text/html": [
       "<div>\n",
       "<style scoped>\n",
       "    .dataframe tbody tr th:only-of-type {\n",
       "        vertical-align: middle;\n",
       "    }\n",
       "\n",
       "    .dataframe tbody tr th {\n",
       "        vertical-align: top;\n",
       "    }\n",
       "\n",
       "    .dataframe thead th {\n",
       "        text-align: right;\n",
       "    }\n",
       "</style>\n",
       "<table border=\"1\" class=\"dataframe\">\n",
       "  <thead>\n",
       "    <tr style=\"text-align: right;\">\n",
       "      <th></th>\n",
       "      <th>civil_name</th>\n",
       "      <th>state</th>\n",
       "      <th>cpf</th>\n",
       "      <th>congressperson_document</th>\n",
       "      <th>congressperson_name</th>\n",
       "      <th>party</th>\n",
       "    </tr>\n",
       "  </thead>\n",
       "  <tbody>\n",
       "    <tr>\n",
       "      <th>0</th>\n",
       "      <td>FLAVIANO FLÁVIO BAPTISTA DE MELO</td>\n",
       "      <td>AC</td>\n",
       "      <td>33251797700</td>\n",
       "      <td>54</td>\n",
       "      <td>FLAVIANO MELO</td>\n",
       "      <td>PMDB</td>\n",
       "    </tr>\n",
       "    <tr>\n",
       "      <th>1</th>\n",
       "      <td>JANETE MARIA GÓES CAPIBERIBE</td>\n",
       "      <td>AP</td>\n",
       "      <td>18085830272</td>\n",
       "      <td>10</td>\n",
       "      <td>JANETE CAPIBERIBE</td>\n",
       "      <td>PSB</td>\n",
       "    </tr>\n",
       "    <tr>\n",
       "      <th>2</th>\n",
       "      <td>ALICE MAZZUCO PORTUGAL</td>\n",
       "      <td>BA</td>\n",
       "      <td>12377392504</td>\n",
       "      <td>180</td>\n",
       "      <td>ALICE PORTUGAL</td>\n",
       "      <td>PCdoB</td>\n",
       "    </tr>\n",
       "    <tr>\n",
       "      <th>3</th>\n",
       "      <td>BENITO DA GAMA SANTOS</td>\n",
       "      <td>BA</td>\n",
       "      <td>2664763504</td>\n",
       "      <td>190</td>\n",
       "      <td>BENITO GAMA</td>\n",
       "      <td>PTB</td>\n",
       "    </tr>\n",
       "    <tr>\n",
       "      <th>4</th>\n",
       "      <td>DANIEL GOMES DE ALMEIDA</td>\n",
       "      <td>BA</td>\n",
       "      <td>7894090549</td>\n",
       "      <td>188</td>\n",
       "      <td>DANIEL ALMEIDA</td>\n",
       "      <td>PCdoB</td>\n",
       "    </tr>\n",
       "  </tbody>\n",
       "</table>\n",
       "</div>"
      ],
      "text/plain": [
       "                         civil_name state          cpf  \\\n",
       "0  FLAVIANO FLÁVIO BAPTISTA DE MELO    AC  33251797700   \n",
       "1      JANETE MARIA GÓES CAPIBERIBE    AP  18085830272   \n",
       "2            ALICE MAZZUCO PORTUGAL    BA  12377392504   \n",
       "3             BENITO DA GAMA SANTOS    BA   2664763504   \n",
       "4           DANIEL GOMES DE ALMEIDA    BA   7894090549   \n",
       "\n",
       "   congressperson_document congressperson_name  party  \n",
       "0                       54       FLAVIANO MELO   PMDB  \n",
       "1                       10   JANETE CAPIBERIBE    PSB  \n",
       "2                      180      ALICE PORTUGAL  PCdoB  \n",
       "3                      190         BENITO GAMA    PTB  \n",
       "4                      188      DANIEL ALMEIDA  PCdoB  "
      ]
     },
     "execution_count": 12,
     "metadata": {},
     "output_type": "execute_result"
    }
   ],
   "source": [
    "deputies.head()"
   ]
  },
  {
   "cell_type": "code",
   "execution_count": 18,
   "metadata": {},
   "outputs": [],
   "source": [
    "for i, row in deputies.iterrows():\n",
    "    document = row.congressperson_document\n",
    "    cpf = str(row.cpf)\n",
    "    \n",
    "    document_info = {'begin': 2015, 'end': 2018, 'congressperson_document': document}\n",
    "\n",
    "    person = collection.find_one({'cpf': cpf})\n",
    "    \n",
    "    deputy_info = person.get('deputy_info')\n",
    "    if not deputy_info:\n",
    "        person.update({'deputy_info': {'terms': [document_info]}})\n",
    "    else:\n",
    "        mandados = deputy_info.get('terms')\n",
    "        if mandados:\n",
    "            check = [m for m in mandados if m.get('congressperson_document') == document]\n",
    "            if check:\n",
    "                continue\n",
    "            person['deputy_info']['terms'].append(document_info) \n",
    "        else:\n",
    "            person['deputy_info'].update({'terms': [document_info]})\n",
    "            \n",
    "    collection.find_one_and_replace({'cpf': cpf}, person)"
   ]
  }
 ],
 "metadata": {
  "kernelspec": {
   "display_name": "Python 3",
   "language": "python",
   "name": "python3"
  },
  "language_info": {
   "codemirror_mode": {
    "name": "ipython",
    "version": 3
   },
   "file_extension": ".py",
   "mimetype": "text/x-python",
   "name": "python",
   "nbconvert_exporter": "python",
   "pygments_lexer": "ipython3",
   "version": "3.6.1"
  }
 },
 "nbformat": 4,
 "nbformat_minor": 2
}
