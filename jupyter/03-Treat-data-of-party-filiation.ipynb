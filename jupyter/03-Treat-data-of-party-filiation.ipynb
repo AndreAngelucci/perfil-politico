{
 "cells": [
  {
   "cell_type": "code",
   "execution_count": 2,
   "metadata": {},
   "outputs": [
    {
     "name": "stderr",
     "output_type": "stream",
     "text": [
      "/usr/local/lib/python3.6/importlib/_bootstrap.py:205: RuntimeWarning: numpy.dtype size changed, may indicate binary incompatibility. Expected 96, got 88\n",
      "  return f(*args, **kwds)\n",
      "/usr/local/lib/python3.6/importlib/_bootstrap.py:205: RuntimeWarning: numpy.dtype size changed, may indicate binary incompatibility. Expected 96, got 88\n",
      "  return f(*args, **kwds)\n"
     ]
    }
   ],
   "source": [
    "from ast import literal_eval\n",
    "\n",
    "import pandas as pd"
   ]
  },
  {
   "cell_type": "code",
   "execution_count": 3,
   "metadata": {},
   "outputs": [],
   "source": [
    "df = pd.read_csv('/mnt/data/deputy_personal_info_biography.csv')"
   ]
  },
  {
   "cell_type": "code",
   "execution_count": 4,
   "metadata": {},
   "outputs": [
    {
     "data": {
      "text/html": [
       "<div>\n",
       "<style scoped>\n",
       "    .dataframe tbody tr th:only-of-type {\n",
       "        vertical-align: middle;\n",
       "    }\n",
       "\n",
       "    .dataframe tbody tr th {\n",
       "        vertical-align: top;\n",
       "    }\n",
       "\n",
       "    .dataframe thead th {\n",
       "        text-align: right;\n",
       "    }\n",
       "</style>\n",
       "<table border=\"1\" class=\"dataframe\">\n",
       "  <thead>\n",
       "    <tr style=\"text-align: right;\">\n",
       "      <th></th>\n",
       "      <th>name</th>\n",
       "      <th>deputy_name</th>\n",
       "      <th>congressperson_id</th>\n",
       "      <th>birthday</th>\n",
       "      <th>birthplace</th>\n",
       "      <th>parents</th>\n",
       "      <th>state</th>\n",
       "      <th>career</th>\n",
       "      <th>link</th>\n",
       "      <th>parties_filiated</th>\n",
       "      <th>term</th>\n",
       "    </tr>\n",
       "  </thead>\n",
       "  <tbody>\n",
       "    <tr>\n",
       "      <th>0</th>\n",
       "      <td>ABELARDO LUIZ LUPION MELLO</td>\n",
       "      <td>ABELARDO LUPION</td>\n",
       "      <td>73764</td>\n",
       "      <td>25/8/1952</td>\n",
       "      <td>Curitiba, PR</td>\n",
       "      <td>['JOÃO FORTUNATO BULCÃO MELLO', 'LEOVEGILDA LU...</td>\n",
       "      <td>PR</td>\n",
       "      <td>['AGROPECUARISTA', 'EMPRESÁRIO']</td>\n",
       "      <td>http://www2.camara.gov.br/deputados/pesquisa/l...</td>\n",
       "      <td>['PRN', 'PFL', 'DEM']</td>\n",
       "      <td>50</td>\n",
       "    </tr>\n",
       "    <tr>\n",
       "      <th>1</th>\n",
       "      <td>ADÃO PRETTO</td>\n",
       "      <td>ADÃO PRETTO</td>\n",
       "      <td>73886</td>\n",
       "      <td>18/12/1945</td>\n",
       "      <td>Redentora, RS</td>\n",
       "      <td>['ANGELO PRETTO', 'ANADIR BUCHANELLI PRETTO']</td>\n",
       "      <td>RS</td>\n",
       "      <td>['AGRICULTOR']</td>\n",
       "      <td>http://www2.camara.gov.br/deputados/pesquisa/l...</td>\n",
       "      <td>['PDT', 'PT']</td>\n",
       "      <td>50</td>\n",
       "    </tr>\n",
       "  </tbody>\n",
       "</table>\n",
       "</div>"
      ],
      "text/plain": [
       "                         name      deputy_name  congressperson_id    birthday  \\\n",
       "0  ABELARDO LUIZ LUPION MELLO  ABELARDO LUPION              73764   25/8/1952   \n",
       "1                 ADÃO PRETTO      ADÃO PRETTO              73886  18/12/1945   \n",
       "\n",
       "      birthplace                                            parents state  \\\n",
       "0   Curitiba, PR  ['JOÃO FORTUNATO BULCÃO MELLO', 'LEOVEGILDA LU...    PR   \n",
       "1  Redentora, RS      ['ANGELO PRETTO', 'ANADIR BUCHANELLI PRETTO']    RS   \n",
       "\n",
       "                             career  \\\n",
       "0  ['AGROPECUARISTA', 'EMPRESÁRIO']   \n",
       "1                    ['AGRICULTOR']   \n",
       "\n",
       "                                                link       parties_filiated  \\\n",
       "0  http://www2.camara.gov.br/deputados/pesquisa/l...  ['PRN', 'PFL', 'DEM']   \n",
       "1  http://www2.camara.gov.br/deputados/pesquisa/l...          ['PDT', 'PT']   \n",
       "\n",
       "   term  \n",
       "0    50  \n",
       "1    50  "
      ]
     },
     "execution_count": 4,
     "metadata": {},
     "output_type": "execute_result"
    }
   ],
   "source": [
    "df.head(2)"
   ]
  },
  {
   "cell_type": "code",
   "execution_count": 5,
   "metadata": {},
   "outputs": [],
   "source": [
    "parties_filiated = []\n",
    "for i, row in df.iterrows():\n",
    "    for party in literal_eval(row['parties_filiated']):\n",
    "        parties_filiated.append([row['name'], row['birthday'], row['congressperson_id'], party])"
   ]
  },
  {
   "cell_type": "code",
   "execution_count": 6,
   "metadata": {},
   "outputs": [
    {
     "data": {
      "text/html": [
       "<div>\n",
       "<style scoped>\n",
       "    .dataframe tbody tr th:only-of-type {\n",
       "        vertical-align: middle;\n",
       "    }\n",
       "\n",
       "    .dataframe tbody tr th {\n",
       "        vertical-align: top;\n",
       "    }\n",
       "\n",
       "    .dataframe thead th {\n",
       "        text-align: right;\n",
       "    }\n",
       "</style>\n",
       "<table border=\"1\" class=\"dataframe\">\n",
       "  <thead>\n",
       "    <tr style=\"text-align: right;\">\n",
       "      <th></th>\n",
       "      <th>name</th>\n",
       "      <th>birthday</th>\n",
       "      <th>congressperson_id</th>\n",
       "      <th>sigla_partido</th>\n",
       "    </tr>\n",
       "  </thead>\n",
       "  <tbody>\n",
       "    <tr>\n",
       "      <th>0</th>\n",
       "      <td>ABELARDO LUIZ LUPION MELLO</td>\n",
       "      <td>25/8/1952</td>\n",
       "      <td>73764</td>\n",
       "      <td>PRN</td>\n",
       "    </tr>\n",
       "    <tr>\n",
       "      <th>1</th>\n",
       "      <td>ABELARDO LUIZ LUPION MELLO</td>\n",
       "      <td>25/8/1952</td>\n",
       "      <td>73764</td>\n",
       "      <td>PFL</td>\n",
       "    </tr>\n",
       "    <tr>\n",
       "      <th>2</th>\n",
       "      <td>ABELARDO LUIZ LUPION MELLO</td>\n",
       "      <td>25/8/1952</td>\n",
       "      <td>73764</td>\n",
       "      <td>DEM</td>\n",
       "    </tr>\n",
       "    <tr>\n",
       "      <th>3</th>\n",
       "      <td>ADÃO PRETTO</td>\n",
       "      <td>18/12/1945</td>\n",
       "      <td>73886</td>\n",
       "      <td>PDT</td>\n",
       "    </tr>\n",
       "    <tr>\n",
       "      <th>4</th>\n",
       "      <td>ADÃO PRETTO</td>\n",
       "      <td>18/12/1945</td>\n",
       "      <td>73886</td>\n",
       "      <td>PT</td>\n",
       "    </tr>\n",
       "  </tbody>\n",
       "</table>\n",
       "</div>"
      ],
      "text/plain": [
       "                         name    birthday  congressperson_id sigla_partido\n",
       "0  ABELARDO LUIZ LUPION MELLO   25/8/1952              73764           PRN\n",
       "1  ABELARDO LUIZ LUPION MELLO   25/8/1952              73764           PFL\n",
       "2  ABELARDO LUIZ LUPION MELLO   25/8/1952              73764           DEM\n",
       "3                 ADÃO PRETTO  18/12/1945              73886           PDT\n",
       "4                 ADÃO PRETTO  18/12/1945              73886            PT"
      ]
     },
     "execution_count": 6,
     "metadata": {},
     "output_type": "execute_result"
    }
   ],
   "source": [
    "df_parties_filiated = pd.DataFrame(parties_filiated, columns=['name', 'birthday', 'congressperson_id', 'sigla_partido'])\n",
    "df_parties_filiated.head()"
   ]
  },
  {
   "cell_type": "code",
   "execution_count": 7,
   "metadata": {},
   "outputs": [],
   "source": [
    "df_parties_filiated.to_csv('/mnt/data/deputy_parties_filiation.csv', index=False)"
   ]
  },
  {
   "cell_type": "code",
   "execution_count": 23,
   "metadata": {},
   "outputs": [],
   "source": [
    "import pandas as pd\n",
    "import numpy as np\n",
    "\n",
    "from itertools import product\n",
    "\n",
    "partidos = ['P1', 'P2', 'P3', 'P4']\n",
    "\n",
    "df = pd.DataFrame(np.zeros((len(partidos),len(partidos))), index=partidos, columns=partidos)\n",
    "\n",
    "joins = list(product(['P2','P3'], ['P2','P3']))\n",
    "\n",
    "for join in joins:\n",
    "    df[join[0]][join[1]] += 1"
   ]
  },
  {
   "cell_type": "code",
   "execution_count": 4,
   "metadata": {},
   "outputs": [],
   "source": []
  },
  {
   "cell_type": "code",
   "execution_count": 26,
   "metadata": {},
   "outputs": [
    {
     "data": {
      "text/plain": [
       "[('P2', 'P2'), ('P2', 'P3'), ('P3', 'P2'), ('P3', 'P3')]"
      ]
     },
     "execution_count": 26,
     "metadata": {},
     "output_type": "execute_result"
    }
   ],
   "source": [
    "list(product(['P2','P3'], ['P2','P3']))"
   ]
  },
  {
   "cell_type": "code",
   "execution_count": 13,
   "metadata": {},
   "outputs": [],
   "source": [
    "lista = [['P1'], ['P2','P3'], ['P3','P4']]"
   ]
  },
  {
   "cell_type": "code",
   "execution_count": 28,
   "metadata": {},
   "outputs": [
    {
     "data": {
      "text/html": [
       "<div>\n",
       "<style scoped>\n",
       "    .dataframe tbody tr th:only-of-type {\n",
       "        vertical-align: middle;\n",
       "    }\n",
       "\n",
       "    .dataframe tbody tr th {\n",
       "        vertical-align: top;\n",
       "    }\n",
       "\n",
       "    .dataframe thead th {\n",
       "        text-align: right;\n",
       "    }\n",
       "</style>\n",
       "<table border=\"1\" class=\"dataframe\">\n",
       "  <thead>\n",
       "    <tr style=\"text-align: right;\">\n",
       "      <th></th>\n",
       "      <th>P1</th>\n",
       "      <th>P2</th>\n",
       "      <th>P3</th>\n",
       "      <th>P4</th>\n",
       "    </tr>\n",
       "  </thead>\n",
       "  <tbody>\n",
       "    <tr>\n",
       "      <th>P1</th>\n",
       "      <td>0.0</td>\n",
       "      <td>0.0</td>\n",
       "      <td>0.0</td>\n",
       "      <td>0.0</td>\n",
       "    </tr>\n",
       "    <tr>\n",
       "      <th>P2</th>\n",
       "      <td>0.0</td>\n",
       "      <td>0.0</td>\n",
       "      <td>0.0</td>\n",
       "      <td>0.0</td>\n",
       "    </tr>\n",
       "    <tr>\n",
       "      <th>P3</th>\n",
       "      <td>0.0</td>\n",
       "      <td>0.0</td>\n",
       "      <td>0.0</td>\n",
       "      <td>0.0</td>\n",
       "    </tr>\n",
       "    <tr>\n",
       "      <th>P4</th>\n",
       "      <td>0.0</td>\n",
       "      <td>0.0</td>\n",
       "      <td>0.0</td>\n",
       "      <td>0.0</td>\n",
       "    </tr>\n",
       "  </tbody>\n",
       "</table>\n",
       "</div>"
      ],
      "text/plain": [
       "     P1   P2   P3   P4\n",
       "P1  0.0  0.0  0.0  0.0\n",
       "P2  0.0  0.0  0.0  0.0\n",
       "P3  0.0  0.0  0.0  0.0\n",
       "P4  0.0  0.0  0.0  0.0"
      ]
     },
     "execution_count": 28,
     "metadata": {},
     "output_type": "execute_result"
    }
   ],
   "source": [
    "df = pd.DataFrame(np.zeros((len(partidos),len(partidos))), index=partidos, columns=partidos)\n",
    "df"
   ]
  },
  {
   "cell_type": "code",
   "execution_count": 35,
   "metadata": {},
   "outputs": [
    {
     "data": {
      "text/plain": [
       "0.0"
      ]
     },
     "execution_count": 35,
     "metadata": {},
     "output_type": "execute_result"
    }
   ],
   "source": [
    "df['P2']['P2']"
   ]
  },
  {
   "cell_type": "code",
   "execution_count": 36,
   "metadata": {},
   "outputs": [],
   "source": [
    "joins = list(product(['P2','P3'], ['P2','P3']))\n",
    "\n",
    "for join in joins:\n",
    "    df[join[0]][join[1]] += 1"
   ]
  },
  {
   "cell_type": "code",
   "execution_count": 37,
   "metadata": {},
   "outputs": [
    {
     "data": {
      "text/html": [
       "<div>\n",
       "<style scoped>\n",
       "    .dataframe tbody tr th:only-of-type {\n",
       "        vertical-align: middle;\n",
       "    }\n",
       "\n",
       "    .dataframe tbody tr th {\n",
       "        vertical-align: top;\n",
       "    }\n",
       "\n",
       "    .dataframe thead th {\n",
       "        text-align: right;\n",
       "    }\n",
       "</style>\n",
       "<table border=\"1\" class=\"dataframe\">\n",
       "  <thead>\n",
       "    <tr style=\"text-align: right;\">\n",
       "      <th></th>\n",
       "      <th>P1</th>\n",
       "      <th>P2</th>\n",
       "      <th>P3</th>\n",
       "      <th>P4</th>\n",
       "    </tr>\n",
       "  </thead>\n",
       "  <tbody>\n",
       "    <tr>\n",
       "      <th>P1</th>\n",
       "      <td>0.0</td>\n",
       "      <td>0.0</td>\n",
       "      <td>0.0</td>\n",
       "      <td>0.0</td>\n",
       "    </tr>\n",
       "    <tr>\n",
       "      <th>P2</th>\n",
       "      <td>0.0</td>\n",
       "      <td>1.0</td>\n",
       "      <td>1.0</td>\n",
       "      <td>0.0</td>\n",
       "    </tr>\n",
       "    <tr>\n",
       "      <th>P3</th>\n",
       "      <td>0.0</td>\n",
       "      <td>1.0</td>\n",
       "      <td>1.0</td>\n",
       "      <td>0.0</td>\n",
       "    </tr>\n",
       "    <tr>\n",
       "      <th>P4</th>\n",
       "      <td>0.0</td>\n",
       "      <td>0.0</td>\n",
       "      <td>0.0</td>\n",
       "      <td>0.0</td>\n",
       "    </tr>\n",
       "  </tbody>\n",
       "</table>\n",
       "</div>"
      ],
      "text/plain": [
       "     P1   P2   P3   P4\n",
       "P1  0.0  0.0  0.0  0.0\n",
       "P2  0.0  1.0  1.0  0.0\n",
       "P3  0.0  1.0  1.0  0.0\n",
       "P4  0.0  0.0  0.0  0.0"
      ]
     },
     "execution_count": 37,
     "metadata": {},
     "output_type": "execute_result"
    }
   ],
   "source": [
    "df"
   ]
  }
 ],
 "metadata": {
  "kernelspec": {
   "display_name": "Python 3",
   "language": "python",
   "name": "python3"
  },
  "language_info": {
   "codemirror_mode": {
    "name": "ipython",
    "version": 3
   },
   "file_extension": ".py",
   "mimetype": "text/x-python",
   "name": "python",
   "nbconvert_exporter": "python",
   "pygments_lexer": "ipython3",
   "version": "3.6.1"
  }
 },
 "nbformat": 4,
 "nbformat_minor": 2
}
