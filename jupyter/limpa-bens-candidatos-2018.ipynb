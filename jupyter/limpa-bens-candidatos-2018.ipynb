{
 "cells": [
  {
   "cell_type": "code",
   "execution_count": 61,
   "metadata": {},
   "outputs": [],
   "source": [
    "import glob\n",
    "import json\n",
    "import os\n",
    "\n",
    "import pandas as pd"
   ]
  },
  {
   "cell_type": "code",
   "execution_count": 62,
   "metadata": {},
   "outputs": [],
   "source": [
    "path = '../data/_dirty/bem_candidato_2018'"
   ]
  },
  {
   "cell_type": "code",
   "execution_count": 63,
   "metadata": {},
   "outputs": [],
   "source": [
    "files = glob.glob(os.path.join(path,'*.csv'))"
   ]
  },
  {
   "cell_type": "code",
   "execution_count": 64,
   "metadata": {},
   "outputs": [],
   "source": [
    "labels_final = [\n",
    "    'ano_eleicao',\n",
    "    'descricao_eleicao',\n",
    "    'sigla_uf',\n",
    "    'sq_candidato',\n",
    "    'cd_tipo_bem_candidato',\n",
    "    'ds_tipo_bem_candidato',\n",
    "    'detalhe_bem',\n",
    "    'valor_bem'\n",
    "]"
   ]
  },
  {
   "cell_type": "code",
   "execution_count": 65,
   "metadata": {},
   "outputs": [],
   "source": [
    "dfs_bens = [] \n",
    "for file in files:\n",
    "    df = pd.read_csv(file, sep=';', encoding='latin-1')\n",
    "    df.rename(columns={\n",
    "        'ANO_ELEICAO': 'ano_eleicao',\n",
    "        'DS_ELEICAO': 'descricao_eleicao',\n",
    "        'SG_UF': 'sigla_uf',\n",
    "        'SQ_CANDIDATO': 'sq_candidato',\n",
    "        'CD_TIPO_BEM_CANDIDATO': 'cd_tipo_bem_candidato',\n",
    "        'DS_TIPO_BEM_CANDIDATO': 'ds_tipo_bem_candidato',\n",
    "        'DS_BEM_CANDIDATO': 'detalhe_bem',\n",
    "        'VR_BEM_CANDIDATO': 'valor_bem'\n",
    "    }, inplace=True)\n",
    "    df = df[labels_final]\n",
    "    df.detalhe_bem = df.detalhe_bem.str.replace('#NULO#', '')\n",
    "    df.valor_bem = df.valor_bem.str.replace(',', '.')\n",
    "    df.valor_bem = df.valor_bem.astype(float)\n",
    "    dfs_bens.append(df)"
   ]
  },
  {
   "cell_type": "code",
   "execution_count": 66,
   "metadata": {},
   "outputs": [],
   "source": [
    "df_bens_2018 = pd.concat(dfs_bens)"
   ]
  },
  {
   "cell_type": "code",
   "execution_count": 68,
   "metadata": {},
   "outputs": [
    {
     "name": "stdout",
     "output_type": "stream",
     "text": [
      "(92040, 8)\n"
     ]
    }
   ],
   "source": [
    "print(df_bens_2018.shape)\n",
    "df_bens_2018.to_csv('../data/bens-candidatos-2018-limpo.csv', index=False)"
   ]
  }
 ],
 "metadata": {
  "kernelspec": {
   "display_name": "Python 3",
   "language": "python",
   "name": "python3"
  },
  "language_info": {
   "codemirror_mode": {
    "name": "ipython",
    "version": 3
   },
   "file_extension": ".py",
   "mimetype": "text/x-python",
   "name": "python",
   "nbconvert_exporter": "python",
   "pygments_lexer": "ipython3",
   "version": "3.6.1"
  }
 },
 "nbformat": 4,
 "nbformat_minor": 2
}
